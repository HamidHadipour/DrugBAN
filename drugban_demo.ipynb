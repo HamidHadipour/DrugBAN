{
  "nbformat": 4,
  "nbformat_minor": 0,
  "metadata": {
    "colab": {
      "name": "DrugBAN_Demo.ipynb",
      "provenance": [],
      "authorship_tag": "ABX9TyP8BYMibgJoDRU5wQ6jOh6d",
      "include_colab_link": true
    },
    "kernelspec": {
      "name": "python3",
      "display_name": "Python 3"
    },
    "language_info": {
      "name": "python"
    }
  },
  "cells": [
    {
      "cell_type": "markdown",
      "metadata": {
        "id": "view-in-github",
        "colab_type": "text"
      },
      "source": [
        "<a href=\"https://colab.research.google.com/github/pz-white/DrugBAN/blob/main/drugban_demo.ipynb\" target=\"_parent\"><img src=\"https://colab.research.google.com/assets/colab-badge.svg\" alt=\"Open In Colab\"/></a>"
      ]
    },
    {
      "cell_type": "code",
      "execution_count": null,
      "metadata": {
        "id": "R7mVi1AOUK0R"
      },
      "outputs": [],
      "source": [
        ""
      ]
    }
  ]
}
