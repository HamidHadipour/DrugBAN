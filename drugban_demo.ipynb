{
  "cells": [
    {
      "cell_type": "markdown",
      "metadata": {
        "id": "view-in-github",
        "colab_type": "text"
      },
      "source": [
        "<a href=\"https://colab.research.google.com/github/pz-white/DrugBAN/blob/main/drugban_demo.ipynb\" target=\"_parent\"><img src=\"https://colab.research.google.com/assets/colab-badge.svg\" alt=\"Open In Colab\"/></a>"
      ]
    },
    {
      "cell_type": "markdown",
      "metadata": {
        "id": "aA5ncjhFVt8Q"
      },
      "source": [
        "# DrugBAN Demo Running on Colab\n"
      ]
    },
    {
      "cell_type": "markdown",
      "metadata": {
        "id": "kZPwj94JXy8K"
      },
      "source": [
        "## Setup\n",
        "\n",
        "The first few blocks of code are necessary to set up the notebook execution environment. This checks if the notebook is running on Google Colab and installs required packages."
      ]
    },
    {
      "cell_type": "code",
      "execution_count": null,
      "metadata": {
        "colab": {
          "base_uri": "https://localhost:8080/"
        },
        "id": "i-mTHW00YW9S",
        "outputId": "b50cefc4-93d6-4611-8236-f9e92b361217"
      },
      "outputs": [
        {
          "output_type": "stream",
          "name": "stdout",
          "text": [
            "Running on CoLab\n",
            "Found existing installation: yellowbrick 1.4\n",
            "Uninstalling yellowbrick-1.4:\n",
            "  Successfully uninstalled yellowbrick-1.4\n",
            "\u001b[K     |████████████████████████████████| 281 kB 5.3 MB/s \n",
            "\u001b[?25hLooking in indexes: https://pypi.org/simple, https://us-python.pkg.dev/colab-wheels/public/simple/\n",
            "Collecting dgl\n",
            "  Downloading dgl-0.9.0-cp37-cp37m-manylinux1_x86_64.whl (6.2 MB)\n",
            "\u001b[K     |████████████████████████████████| 6.2 MB 5.0 MB/s \n",
            "\u001b[?25hRequirement already satisfied: networkx>=2.1 in /usr/local/lib/python3.7/dist-packages (from dgl) (2.6.3)\n",
            "Requirement already satisfied: scipy>=1.1.0 in /usr/local/lib/python3.7/dist-packages (from dgl) (1.7.3)\n",
            "Requirement already satisfied: requests>=2.19.0 in /usr/local/lib/python3.7/dist-packages (from dgl) (2.23.0)\n",
            "Requirement already satisfied: numpy>=1.14.0 in /usr/local/lib/python3.7/dist-packages (from dgl) (1.21.6)\n",
            "Requirement already satisfied: psutil>=5.8.0 in /usr/local/lib/python3.7/dist-packages (from dgl) (5.9.1)\n",
            "Requirement already satisfied: tqdm in /usr/local/lib/python3.7/dist-packages (from dgl) (4.64.0)\n",
            "Requirement already satisfied: idna<3,>=2.5 in /usr/local/lib/python3.7/dist-packages (from requests>=2.19.0->dgl) (2.10)\n",
            "Requirement already satisfied: urllib3!=1.25.0,!=1.25.1,<1.26,>=1.21.1 in /usr/local/lib/python3.7/dist-packages (from requests>=2.19.0->dgl) (1.24.3)\n",
            "Requirement already satisfied: chardet<4,>=3.0.2 in /usr/local/lib/python3.7/dist-packages (from requests>=2.19.0->dgl) (3.0.4)\n",
            "Requirement already satisfied: certifi>=2017.4.17 in /usr/local/lib/python3.7/dist-packages (from requests>=2.19.0->dgl) (2022.6.15)\n",
            "Installing collected packages: dgl\n",
            "Successfully installed dgl-0.9.0\n",
            "Looking in indexes: https://pypi.org/simple, https://us-python.pkg.dev/colab-wheels/public/simple/\n",
            "Collecting dgllife\n",
            "  Downloading dgllife-0.3.0-py3-none-any.whl (220 kB)\n",
            "\u001b[K     |████████████████████████████████| 220 kB 5.1 MB/s \n",
            "\u001b[?25hRequirement already satisfied: requests>=2.22.0 in /usr/local/lib/python3.7/dist-packages (from dgllife) (2.23.0)\n",
            "Requirement already satisfied: pandas in /usr/local/lib/python3.7/dist-packages (from dgllife) (1.3.5)\n",
            "Requirement already satisfied: numpy>=1.14.0 in /usr/local/lib/python3.7/dist-packages (from dgllife) (1.21.6)\n",
            "Collecting scikit-learn<1.0,>=0.22.2\n",
            "  Downloading scikit_learn-0.24.2-cp37-cp37m-manylinux2010_x86_64.whl (22.3 MB)\n",
            "\u001b[K     |████████████████████████████████| 22.3 MB 1.1 MB/s \n",
            "\u001b[?25hRequirement already satisfied: tqdm in /usr/local/lib/python3.7/dist-packages (from dgllife) (4.64.0)\n",
            "Requirement already satisfied: networkx>=2.1 in /usr/local/lib/python3.7/dist-packages (from dgllife) (2.6.3)\n",
            "Requirement already satisfied: hyperopt in /usr/local/lib/python3.7/dist-packages (from dgllife) (0.1.2)\n",
            "Requirement already satisfied: scipy>=1.1.0 in /usr/local/lib/python3.7/dist-packages (from dgllife) (1.7.3)\n",
            "Requirement already satisfied: joblib in /usr/local/lib/python3.7/dist-packages (from dgllife) (1.1.0)\n",
            "Requirement already satisfied: urllib3!=1.25.0,!=1.25.1,<1.26,>=1.21.1 in /usr/local/lib/python3.7/dist-packages (from requests>=2.22.0->dgllife) (1.24.3)\n",
            "Requirement already satisfied: idna<3,>=2.5 in /usr/local/lib/python3.7/dist-packages (from requests>=2.22.0->dgllife) (2.10)\n",
            "Requirement already satisfied: certifi>=2017.4.17 in /usr/local/lib/python3.7/dist-packages (from requests>=2.22.0->dgllife) (2022.6.15)\n",
            "Requirement already satisfied: chardet<4,>=3.0.2 in /usr/local/lib/python3.7/dist-packages (from requests>=2.22.0->dgllife) (3.0.4)\n",
            "Requirement already satisfied: threadpoolctl>=2.0.0 in /usr/local/lib/python3.7/dist-packages (from scikit-learn<1.0,>=0.22.2->dgllife) (3.1.0)\n",
            "Requirement already satisfied: pymongo in /usr/local/lib/python3.7/dist-packages (from hyperopt->dgllife) (4.2.0)\n",
            "Requirement already satisfied: future in /usr/local/lib/python3.7/dist-packages (from hyperopt->dgllife) (0.16.0)\n",
            "Requirement already satisfied: six in /usr/local/lib/python3.7/dist-packages (from hyperopt->dgllife) (1.15.0)\n",
            "Requirement already satisfied: pytz>=2017.3 in /usr/local/lib/python3.7/dist-packages (from pandas->dgllife) (2022.1)\n",
            "Requirement already satisfied: python-dateutil>=2.7.3 in /usr/local/lib/python3.7/dist-packages (from pandas->dgllife) (2.8.2)\n",
            "Installing collected packages: scikit-learn, dgllife\n",
            "  Attempting uninstall: scikit-learn\n",
            "    Found existing installation: scikit-learn 1.0.2\n",
            "    Uninstalling scikit-learn-1.0.2:\n",
            "      Successfully uninstalled scikit-learn-1.0.2\n",
            "Successfully installed dgllife-0.3.0 scikit-learn-0.24.2\n",
            "Looking in indexes: https://pypi.org/simple, https://us-python.pkg.dev/colab-wheels/public/simple/\n",
            "Collecting rdkit-pypi\n",
            "  Downloading rdkit_pypi-2022.3.5-cp37-cp37m-manylinux_2_17_x86_64.manylinux2014_x86_64.whl (36.8 MB)\n",
            "\u001b[K     |████████████████████████████████| 36.8 MB 1.2 MB/s \n",
            "\u001b[?25hRequirement already satisfied: Pillow in /usr/local/lib/python3.7/dist-packages (from rdkit-pypi) (7.1.2)\n",
            "Requirement already satisfied: numpy in /usr/local/lib/python3.7/dist-packages (from rdkit-pypi) (1.21.6)\n",
            "Installing collected packages: rdkit-pypi\n",
            "Successfully installed rdkit-pypi-2022.3.5\n",
            "Looking in indexes: https://pypi.org/simple, https://us-python.pkg.dev/colab-wheels/public/simple/\n",
            "Requirement already satisfied: PrettyTable in /usr/local/lib/python3.7/dist-packages (3.3.0)\n",
            "Requirement already satisfied: importlib-metadata in /usr/local/lib/python3.7/dist-packages (from PrettyTable) (4.12.0)\n",
            "Requirement already satisfied: wcwidth in /usr/local/lib/python3.7/dist-packages (from PrettyTable) (0.2.5)\n",
            "Requirement already satisfied: zipp>=0.5 in /usr/local/lib/python3.7/dist-packages (from importlib-metadata->PrettyTable) (3.8.1)\n",
            "Requirement already satisfied: typing-extensions>=3.6.4 in /usr/local/lib/python3.7/dist-packages (from importlib-metadata->PrettyTable) (4.1.1)\n",
            "Looking in indexes: https://pypi.org/simple, https://us-python.pkg.dev/colab-wheels/public/simple/\n",
            "Collecting yacs\n",
            "  Downloading yacs-0.1.8-py3-none-any.whl (14 kB)\n",
            "Requirement already satisfied: PyYAML in /usr/local/lib/python3.7/dist-packages (from yacs) (3.13)\n",
            "Installing collected packages: yacs\n",
            "Successfully installed yacs-0.1.8\n",
            "Cloning into 'DrugBAN'...\n",
            "remote: Enumerating objects: 107, done.\u001b[K\n",
            "remote: Counting objects: 100% (107/107), done.\u001b[K\n",
            "remote: Compressing objects: 100% (69/69), done.\u001b[K\n",
            "remote: Total 107 (delta 49), reused 84 (delta 33), pack-reused 0\u001b[K\n",
            "Receiving objects: 100% (107/107), 23.21 MiB | 9.52 MiB/s, done.\n",
            "Resolving deltas: 100% (49/49), done.\n",
            "/content/DrugBAN\n"
          ]
        }
      ],
      "source": [
        "if 'google.colab' in str(get_ipython()):\n",
        "    print('Running on CoLab')\n",
        "    !pip uninstall --yes yellowbrick\n",
        "    !pip install -U -q psutil\n",
        "    !pip install dgl\n",
        "    !pip install dgllife\n",
        "    !pip install rdkit-pypi\n",
        "    !pip install PrettyTable\n",
        "    !pip install yacs\n",
        "    !git clone https://github.com/pz-white/DrugBAN.git\n",
        "    %cd DrugBAN\n",
        "else:\n",
        "    print('Not running on CoLab')"
      ]
    },
    {
      "cell_type": "markdown",
      "metadata": {
        "id": "CYbEP_eRl2BG"
      },
      "source": [
        "## Import required modules."
      ]
    },
    {
      "cell_type": "code",
      "execution_count": null,
      "metadata": {
        "id": "fIJ2vLKhY-Ul",
        "colab": {
          "base_uri": "https://localhost:8080/"
        },
        "outputId": "fd384166-eb2b-4be2-d481-c80e36020871"
      },
      "outputs": [
        {
          "output_type": "stream",
          "name": "stderr",
          "text": [
            "DGL backend not selected or invalid.  Assuming PyTorch for now.\n"
          ]
        },
        {
          "output_type": "stream",
          "name": "stdout",
          "text": [
            "Setting the default backend to \"pytorch\". You can change it in the ~/.dgl/config.json file or export the DGLBACKEND environment variable.  Valid options are: pytorch, mxnet, tensorflow (all lowercase)\n"
          ]
        }
      ],
      "source": [
        "from models import DrugBAN\n",
        "from time import time\n",
        "from utils import set_seed, graph_collate_func, mkdir\n",
        "from configs import get_cfg_defaults\n",
        "from dataloader import DTIDataset, MultiDataLoader\n",
        "from torch.utils.data import DataLoader\n",
        "from trainer import Trainer\n",
        "from domain_adaptator import Discriminator\n",
        "import torch\n",
        "import argparse\n",
        "import warnings, os\n",
        "import pandas as pd"
      ]
    },
    {
      "cell_type": "markdown",
      "metadata": {
        "id": "5Uldo3zTqO6j"
      },
      "source": [
        "## Configuration"
      ]
    },
    {
      "cell_type": "code",
      "execution_count": null,
      "metadata": {
        "id": "hy5zyx55qUtY",
        "colab": {
          "base_uri": "https://localhost:8080/"
        },
        "outputId": "26c77507-a8e8-44ee-ce8b-ea0fd5452bc1"
      },
      "outputs": [
        {
          "output_type": "stream",
          "name": "stdout",
          "text": [
            "Config yaml: ./configs/DrugBAN_Demo.yaml\n",
            "Running on: cpu\n",
            "Hyperparameters:\n"
          ]
        },
        {
          "output_type": "execute_result",
          "data": {
            "text/plain": [
              "{'DRUG': CfgNode({'NODE_IN_FEATS': 75, 'PADDING': True, 'HIDDEN_LAYERS': [128, 128, 128], 'NODE_IN_EMBEDDING': 128, 'MAX_NODES': 290}),\n",
              " 'PROTEIN': CfgNode({'NUM_FILTERS': [128, 128, 128], 'KERNEL_SIZE': [3, 6, 9], 'EMBEDDING_DIM': 128, 'PADDING': True}),\n",
              " 'BCN': CfgNode({'HEADS': 2}),\n",
              " 'DECODER': CfgNode({'NAME': 'MLP', 'IN_DIM': 256, 'HIDDEN_DIM': 512, 'OUT_DIM': 128, 'BINARY': 1}),\n",
              " 'SOLVER': CfgNode({'MAX_EPOCH': 1, 'BATCH_SIZE': 8, 'NUM_WORKERS': 0, 'LR': 5e-05, 'DA_LR': 0.001, 'SEED': 42}),\n",
              " 'RESULT': CfgNode({'OUTPUT_DIR': './result/demo', 'SAVE_MODEL': True}),\n",
              " 'DA': CfgNode({'TASK': False, 'METHOD': 'CDAN', 'USE': False, 'INIT_EPOCH': 10, 'LAMB_DA': 1, 'RANDOM_LAYER': False, 'ORIGINAL_RANDOM': False, 'RANDOM_DIM': None, 'USE_ENTROPY': True}),\n",
              " 'COMET': CfgNode({'WORKSPACE': 'pz-white', 'PROJECT_NAME': 'DrugBAN', 'USE': False, 'TAG': None})}"
            ]
          },
          "metadata": {},
          "execution_count": 3
        }
      ],
      "source": [
        "device = torch.device('cuda' if torch.cuda.is_available() else 'cpu')\n",
        "cfg_path = \"./configs/DrugBAN_Demo.yaml\"\n",
        "data = \"bindingdb_sample\"\n",
        "comet_support = False\n",
        "\n",
        "cfg = get_cfg_defaults()\n",
        "cfg.merge_from_file(cfg_path)\n",
        "cfg.freeze()\n",
        "\n",
        "torch.cuda.empty_cache()\n",
        "warnings.filterwarnings(\"ignore\")\n",
        "set_seed(cfg.SOLVER.SEED)\n",
        "mkdir(cfg.RESULT.OUTPUT_DIR)\n",
        "experiment = None\n",
        "print(f\"Config yaml: {cfg_path}\")\n",
        "print(f\"Running on: {device}\")\n",
        "print(f\"Hyperparameters:\")\n",
        "dict(cfg)"
      ]
    },
    {
      "cell_type": "markdown",
      "metadata": {
        "id": "h4O4qY-NrqP7"
      },
      "source": [
        "## Data Loader"
      ]
    },
    {
      "cell_type": "code",
      "execution_count": null,
      "metadata": {
        "id": "N3jilfWtr2VR"
      },
      "outputs": [],
      "source": [
        "dataFolder = f'./datasets/{data}'\n",
        "dataFolder = os.path.join(dataFolder, \"random\")\n",
        "\n",
        "train_path = os.path.join(dataFolder, 'train.csv')\n",
        "val_path = os.path.join(dataFolder, \"val.csv\")\n",
        "test_path = os.path.join(dataFolder, \"test.csv\")\n",
        "df_train = pd.read_csv(train_path)\n",
        "df_val = pd.read_csv(val_path)\n",
        "df_test = pd.read_csv(test_path)\n",
        "\n",
        "train_dataset = DTIDataset(df_train.index.values, df_train)\n",
        "val_dataset = DTIDataset(df_val.index.values, df_val)\n",
        "test_dataset = DTIDataset(df_test.index.values, df_test)\n",
        "\n",
        "params = {'batch_size': cfg.SOLVER.BATCH_SIZE, 'shuffle': True, 'num_workers': cfg.SOLVER.NUM_WORKERS, 'drop_last': True, 'collate_fn': graph_collate_func}\n",
        "training_generator = DataLoader(train_dataset, **params)\n",
        "params['shuffle'] = False\n",
        "params['drop_last'] = False\n",
        "val_generator = DataLoader(val_dataset, **params)\n",
        "test_generator = DataLoader(test_dataset, **params)"
      ]
    },
    {
      "cell_type": "markdown",
      "metadata": {
        "id": "-pja2a7Ss1-I"
      },
      "source": [
        "## Setup Model and Optimizer"
      ]
    },
    {
      "cell_type": "code",
      "execution_count": null,
      "metadata": {
        "id": "XXj0Wzw5s-iu"
      },
      "outputs": [],
      "source": [
        "model = DrugBAN(**cfg).to(device)\n",
        "opt = torch.optim.Adam(model.parameters(), lr=cfg.SOLVER.LR)\n",
        "if torch.cuda.is_available():\n",
        "  torch.backends.cudnn.benchmark = True"
      ]
    },
    {
      "cell_type": "markdown",
      "metadata": {
        "id": "g9SqUJ5ptTUe"
      },
      "source": [
        "## Model Training"
      ]
    },
    {
      "cell_type": "code",
      "execution_count": null,
      "metadata": {
        "id": "XH9k2L94tXac",
        "colab": {
          "base_uri": "https://localhost:8080/"
        },
        "outputId": "6be7c957-6455-45e3-bc45-9cb16a1bb67a"
      },
      "outputs": [
        {
          "output_type": "stream",
          "name": "stderr",
          "text": [
            "100%|██████████| 21/21 [00:38<00:00,  1.86s/it]\n"
          ]
        },
        {
          "output_type": "stream",
          "name": "stdout",
          "text": [
            "Training at Epoch 1 with training loss 0.7483742804754347\n",
            "Validation at Epoch 1 with validation loss 0.6943950802087784  AUROC 0.6544117647058824 AUPRC 0.44206349206349205\n",
            "Test at Best Model of Epoch 1 with test loss 0.6565468311309814  AUROC 0.4245614035087719 AUPRC 0.4018830588082055 Sensitivity 0.0 Specificity 1.0 Accuracy 0.3877551020408163 Thred_optim 0.42230069637298584\n",
            "Directory for saving result: ./result/demo\n"
          ]
        }
      ],
      "source": [
        "trainer = Trainer(model, opt, device, training_generator, val_generator, test_generator, opt_da=None, discriminator=None, experiment=experiment, **cfg)\n",
        "result = trainer.train()\n",
        "with open(os.path.join(cfg.RESULT.OUTPUT_DIR, \"model_architecture.txt\"), \"w\") as wf:\n",
        "    wf.write(str(model))\n",
        "print(f\"Directory for saving result: {cfg.RESULT.OUTPUT_DIR}\")"
      ]
    }
  ],
  "metadata": {
    "colab": {
      "collapsed_sections": [],
      "name": "drugban_demo.ipynb",
      "provenance": [],
      "authorship_tag": "ABX9TyMYMsM6qfOJsDoSsf7m6Iy1",
      "include_colab_link": true
    },
    "gpuClass": "standard",
    "kernelspec": {
      "display_name": "Python 3",
      "name": "python3"
    },
    "language_info": {
      "name": "python"
    }
  },
  "nbformat": 4,
  "nbformat_minor": 0
}